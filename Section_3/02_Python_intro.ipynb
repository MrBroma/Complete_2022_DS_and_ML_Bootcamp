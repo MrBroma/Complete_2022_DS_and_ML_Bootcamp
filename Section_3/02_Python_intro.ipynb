{
 "cells": [
  {
   "cell_type": "code",
   "execution_count": 1,
   "id": "e6d76d13",
   "metadata": {},
   "outputs": [
    {
     "name": "stdout",
     "output_type": "stream",
     "text": [
      "35\n"
     ]
    }
   ],
   "source": [
    "myAge = 35\n",
    "print(myAge)"
   ]
  },
  {
   "cell_type": "code",
   "execution_count": 2,
   "id": "9a7d398f",
   "metadata": {},
   "outputs": [
    {
     "name": "stdout",
     "output_type": "stream",
     "text": [
      "33\n"
     ]
    }
   ],
   "source": [
    "myAge = 33\n",
    "print(myAge)"
   ]
  },
  {
   "cell_type": "code",
   "execution_count": 3,
   "id": "15a59910",
   "metadata": {},
   "outputs": [
    {
     "name": "stdout",
     "output_type": "stream",
     "text": [
      "11.0\n"
     ]
    }
   ],
   "source": [
    "print(myAge/3)"
   ]
  },
  {
   "cell_type": "code",
   "execution_count": 4,
   "id": "a6545bda",
   "metadata": {},
   "outputs": [
    {
     "name": "stdout",
     "output_type": "stream",
     "text": [
      "34\n"
     ]
    }
   ],
   "source": [
    "myAge = myAge + 1\n",
    "print(myAge)"
   ]
  },
  {
   "cell_type": "code",
   "execution_count": 5,
   "id": "ead9b0ee",
   "metadata": {},
   "outputs": [
    {
     "name": "stdout",
     "output_type": "stream",
     "text": [
      "4.52125\n"
     ]
    }
   ],
   "source": [
    "# Challenge\n",
    "# 1) Create a variable called \"restaurantBill\" and set its value to 36.17\n",
    "# 2) Create a variable called \"serviceCharge\" and set its value to 0.125\n",
    "# 3) print ou the amount of tip\n",
    "restaurantBill = 36.17\n",
    "serviceCharge = 0.125\n",
    "print(restaurantBill * serviceCharge)"
   ]
  },
  {
   "cell_type": "code",
   "execution_count": 6,
   "id": "58b964f2",
   "metadata": {
    "scrolled": true
   },
   "outputs": [
    {
     "data": {
      "text/plain": [
       "int"
      ]
     },
     "execution_count": 6,
     "metadata": {},
     "output_type": "execute_result"
    }
   ],
   "source": [
    "type(33)"
   ]
  },
  {
   "cell_type": "code",
   "execution_count": 7,
   "id": "7daa516d",
   "metadata": {},
   "outputs": [
    {
     "data": {
      "text/plain": [
       "float"
      ]
     },
     "execution_count": 7,
     "metadata": {},
     "output_type": "execute_result"
    }
   ],
   "source": [
    "type(33.6)"
   ]
  },
  {
   "cell_type": "code",
   "execution_count": 8,
   "id": "66b0e26f",
   "metadata": {},
   "outputs": [
    {
     "data": {
      "text/plain": [
       "str"
      ]
     },
     "execution_count": 8,
     "metadata": {},
     "output_type": "execute_result"
    }
   ],
   "source": [
    "type('Loic')"
   ]
  },
  {
   "cell_type": "code",
   "execution_count": 9,
   "id": "1faf9e97",
   "metadata": {},
   "outputs": [
    {
     "data": {
      "text/plain": [
       "int"
      ]
     },
     "execution_count": 9,
     "metadata": {},
     "output_type": "execute_result"
    }
   ],
   "source": [
    "type(myAge)"
   ]
  },
  {
   "cell_type": "code",
   "execution_count": 10,
   "id": "80ab5d6c",
   "metadata": {},
   "outputs": [
    {
     "data": {
      "text/plain": [
       "float"
      ]
     },
     "execution_count": 10,
     "metadata": {},
     "output_type": "execute_result"
    }
   ],
   "source": [
    "type(restaurantBill)"
   ]
  },
  {
   "cell_type": "code",
   "execution_count": 11,
   "id": "731e75c6",
   "metadata": {},
   "outputs": [
    {
     "data": {
      "text/plain": [
       "str"
      ]
     },
     "execution_count": 11,
     "metadata": {},
     "output_type": "execute_result"
    }
   ],
   "source": [
    "myAge = 'Philipp'\n",
    "type(myAge)"
   ]
  },
  {
   "cell_type": "code",
   "execution_count": 12,
   "id": "567090fe",
   "metadata": {},
   "outputs": [],
   "source": [
    "a = 'hello'\n",
    "b = 'world'"
   ]
  },
  {
   "cell_type": "code",
   "execution_count": 13,
   "id": "e0199568",
   "metadata": {},
   "outputs": [
    {
     "name": "stdout",
     "output_type": "stream",
     "text": [
      "world\n",
      "hello\n"
     ]
    }
   ],
   "source": [
    "c = b\n",
    "b = a\n",
    "a = c\n",
    "\n",
    "print(a)\n",
    "print(b)"
   ]
  },
  {
   "cell_type": "code",
   "execution_count": 14,
   "id": "2f5de539",
   "metadata": {},
   "outputs": [
    {
     "data": {
      "text/plain": [
       "list"
      ]
     },
     "execution_count": 14,
     "metadata": {},
     "output_type": "execute_result"
    }
   ],
   "source": [
    "firstPrime = 1\n",
    "seconfPrime = 2\n",
    "thirdPrime = 3\n",
    "\n",
    "primeNumbers = [3, 7, 61, 29, 199]\n",
    "type(primeNumbers)"
   ]
  },
  {
   "cell_type": "code",
   "execution_count": 15,
   "id": "9d3076a9",
   "metadata": {},
   "outputs": [
    {
     "data": {
      "text/plain": [
       "list"
      ]
     },
     "execution_count": 15,
     "metadata": {},
     "output_type": "execute_result"
    }
   ],
   "source": [
    "coolPeople = ['JayZ', 'Ghandi', 'me']\n",
    "primeAndPeople = ['King Arhtur', 17, 11, 'Jennifer Lopez']\n",
    "type(primeAndPeople)"
   ]
  },
  {
   "cell_type": "code",
   "execution_count": 16,
   "id": "6f9df05b",
   "metadata": {},
   "outputs": [
    {
     "data": {
      "text/plain": [
       "61"
      ]
     },
     "execution_count": 16,
     "metadata": {},
     "output_type": "execute_result"
    }
   ],
   "source": [
    "primeNumbers[2]"
   ]
  },
  {
   "cell_type": "code",
   "execution_count": 17,
   "id": "1ac4fa17",
   "metadata": {},
   "outputs": [
    {
     "ename": "NameError",
     "evalue": "name 'primeNumber' is not defined",
     "output_type": "error",
     "traceback": [
      "\u001b[0;31m---------------------------------------------------------------------------\u001b[0m",
      "\u001b[0;31mNameError\u001b[0m                                 Traceback (most recent call last)",
      "Input \u001b[0;32mIn [17]\u001b[0m, in \u001b[0;36m<cell line: 1>\u001b[0;34m()\u001b[0m\n\u001b[0;32m----> 1\u001b[0m bestPrimeEver \u001b[38;5;241m=\u001b[39m \u001b[43mprimeNumber\u001b[49m[\u001b[38;5;241m4\u001b[39m]\n\u001b[1;32m      2\u001b[0m \u001b[38;5;28mprint\u001b[39m(bestPrimeEver)\n",
      "\u001b[0;31mNameError\u001b[0m: name 'primeNumber' is not defined"
     ]
    }
   ],
   "source": [
    "bestPrimeEver = primeNumber[4]\n",
    "print(bestPrimeEver)"
   ]
  },
  {
   "cell_type": "markdown",
   "id": "50c2a87a",
   "metadata": {},
   "source": [
    "## Array"
   ]
  },
  {
   "cell_type": "code",
   "execution_count": null,
   "id": "1e1b8eb9",
   "metadata": {},
   "outputs": [],
   "source": [
    "import pandas as pd\n",
    "data = pd.read_csv('lsd_math_score_data.csv')"
   ]
  },
  {
   "cell_type": "code",
   "execution_count": null,
   "id": "ddd73bf0",
   "metadata": {},
   "outputs": [],
   "source": [
    "print(data)"
   ]
  },
  {
   "cell_type": "code",
   "execution_count": null,
   "id": "4f7db777",
   "metadata": {},
   "outputs": [],
   "source": [
    "type(data)"
   ]
  },
  {
   "cell_type": "code",
   "execution_count": null,
   "id": "83d53a6d",
   "metadata": {},
   "outputs": [],
   "source": [
    "# Type of DataFrame"
   ]
  },
  {
   "cell_type": "code",
   "execution_count": null,
   "id": "b8a0919e",
   "metadata": {},
   "outputs": [],
   "source": [
    "onlyMatshScores = data['Avg_Math_Test_Score']\n",
    "print(onlyMatshScores)"
   ]
  },
  {
   "cell_type": "code",
   "execution_count": null,
   "id": "d26806c8",
   "metadata": {},
   "outputs": [],
   "source": [
    "data['Test_Subject'] = 'Jennifer Lopez'\n",
    "print(data)"
   ]
  },
  {
   "cell_type": "code",
   "execution_count": null,
   "id": "eb22d446",
   "metadata": {},
   "outputs": [],
   "source": [
    "data['High_Score'] = 100\n",
    "print(data)"
   ]
  },
  {
   "cell_type": "code",
   "execution_count": null,
   "id": "309c3c78",
   "metadata": {},
   "outputs": [],
   "source": [
    "# Challenge: Overwrite values in rows for Hish_Score to equal average score + 100\n",
    "data['High_Score'] = data['High_Score'] + data['Avg_Math_Test_Score']\n",
    "print(data)"
   ]
  },
  {
   "cell_type": "code",
   "execution_count": null,
   "id": "7d19ed19",
   "metadata": {},
   "outputs": [],
   "source": [
    "data['High_Score'] = data['High_Score'] ** 2\n",
    "print(data)"
   ]
  },
  {
   "cell_type": "code",
   "execution_count": null,
   "id": "5b525019",
   "metadata": {},
   "outputs": [],
   "source": [
    "type(onlyMatshScores)"
   ]
  },
  {
   "cell_type": "code",
   "execution_count": null,
   "id": "76726dc3",
   "metadata": {},
   "outputs": [],
   "source": [
    "# Challenge: Create a list columList. Put 'LSD_ppm' and 'Avg_Math_Test_Score' inside\n",
    "# columnList = ['LSD_ppm', 'Avg_Math_Test_Score']\n",
    "cleanData = data[['LSD_ppm', 'Avg_Math_Test_Score']]\n",
    "print(cleanData)"
   ]
  },
  {
   "cell_type": "code",
   "execution_count": null,
   "id": "0ab19932",
   "metadata": {},
   "outputs": [],
   "source": [
    "type(cleanData)"
   ]
  },
  {
   "cell_type": "code",
   "execution_count": null,
   "id": "78195b7e",
   "metadata": {},
   "outputs": [],
   "source": [
    "y1 = data[['Avg_Math_Test_Score']]"
   ]
  },
  {
   "cell_type": "code",
   "execution_count": null,
   "id": "7e006c53",
   "metadata": {},
   "outputs": [],
   "source": [
    "type(y1)"
   ]
  },
  {
   "cell_type": "code",
   "execution_count": null,
   "id": "4bcb2c36",
   "metadata": {},
   "outputs": [],
   "source": [
    "y2 = data['Avg_Math_Test_Score']\n",
    "type(y2)"
   ]
  },
  {
   "cell_type": "code",
   "execution_count": null,
   "id": "c76a3ae8",
   "metadata": {},
   "outputs": [],
   "source": [
    "# Challenge: 1) Create a variable called X\n",
    "# Set X equal to the value of LSD_ppm\n",
    "# Make sure X is a dataframe\n",
    "\n",
    "X = data[['LSD_ppm']]\n",
    "print(X)\n",
    "type(X)"
   ]
  },
  {
   "cell_type": "code",
   "execution_count": null,
   "id": "63d5efc1",
   "metadata": {},
   "outputs": [],
   "source": [
    "del data['Test_Subject']"
   ]
  },
  {
   "cell_type": "code",
   "execution_count": null,
   "id": "d882d370",
   "metadata": {
    "scrolled": true
   },
   "outputs": [],
   "source": [
    "print(data)"
   ]
  },
  {
   "cell_type": "code",
   "execution_count": null,
   "id": "87abd781",
   "metadata": {},
   "outputs": [],
   "source": [
    "# Challenge: Delete High_Score column of data\n",
    "del data['High_Score']\n",
    "print(data)"
   ]
  },
  {
   "cell_type": "code",
   "execution_count": null,
   "id": "0802b31a",
   "metadata": {},
   "outputs": [],
   "source": [
    "import life as hitchhikersGuide"
   ]
  },
  {
   "cell_type": "code",
   "execution_count": null,
   "id": "b41cc3b2",
   "metadata": {},
   "outputs": [],
   "source": [
    "type(hitchhikersGuide)"
   ]
  },
  {
   "cell_type": "code",
   "execution_count": null,
   "id": "e84625ce",
   "metadata": {},
   "outputs": [],
   "source": [
    "hitchhikersGuide.theAnswer"
   ]
  },
  {
   "cell_type": "code",
   "execution_count": null,
   "id": "a6fbb11c",
   "metadata": {},
   "outputs": [],
   "source": [
    "# Challenge:\n",
    "# 1) Import math module in notebook\n",
    "# 2) Print out value of pi\n",
    "# 3) Print out value of e\n",
    "import math\n",
    "print(math.pi)\n",
    "print(math.e)"
   ]
  },
  {
   "cell_type": "code",
   "execution_count": null,
   "id": "2a133bb7",
   "metadata": {},
   "outputs": [],
   "source": [
    "# Challenge: format the life.py with the syntax of \n",
    "# 'from sklearn.linear_model import LinearRegression'\n",
    "from life import theAnswer"
   ]
  },
  {
   "cell_type": "code",
   "execution_count": null,
   "id": "52a61058",
   "metadata": {},
   "outputs": [],
   "source": [
    "theAnswer"
   ]
  },
  {
   "cell_type": "code",
   "execution_count": null,
   "id": "fde2064f",
   "metadata": {},
   "outputs": [],
   "source": [
    "myFavoriteNumber = theAnswer\n",
    "print(myFavoriteNumber)"
   ]
  },
  {
   "cell_type": "code",
   "execution_count": null,
   "id": "b4c5dcf6",
   "metadata": {},
   "outputs": [],
   "source": [
    "theAnswer = theAnswer + 1\n",
    "print(theAnswer)"
   ]
  },
  {
   "cell_type": "markdown",
   "id": "c5b34548",
   "metadata": {},
   "source": [
    "- python scripts live inside files ending in .py\n",
    "- import existing code as a Python module into our Jupyter notebook projects using these import statements.\n",
    "    - The simplest way is just to write 'import' and the name of the module (import math)\n",
    "    - Using the 'as' keyword in the import statement to use an 'alias' and use a dot '.' to acces inside the module --> import pandas as pd and use data pd.read_csv('lsd_math_score_data.csv')\n",
    "    - From keyword to copy out a specific piece of code from another module --> from life import theAnswer"
   ]
  },
  {
   "cell_type": "code",
   "execution_count": null,
   "id": "dc025191",
   "metadata": {},
   "outputs": [],
   "source": [
    "import matplotlib.pyplot as plt\n",
    "from sklearn.linear_model import LinearRegression"
   ]
  },
  {
   "cell_type": "markdown",
   "id": "aaeeb162",
   "metadata": {},
   "source": [
    "## Functions"
   ]
  },
  {
   "cell_type": "markdown",
   "id": "c7afd7a9",
   "metadata": {},
   "source": [
    "![image](Screenshot_1.png)"
   ]
  },
  {
   "cell_type": "code",
   "execution_count": null,
   "id": "807937ce",
   "metadata": {},
   "outputs": [],
   "source": [
    "def get_milk():\n",
    "    print('open door')\n",
    "    print('Walk to the store')\n",
    "    print('Buy milk on the ground floor')\n",
    "    print('Return with milk galore')"
   ]
  },
  {
   "cell_type": "code",
   "execution_count": null,
   "id": "c1e41068",
   "metadata": {},
   "outputs": [],
   "source": [
    "get_milk()"
   ]
  },
  {
   "cell_type": "markdown",
   "id": "8c488409",
   "metadata": {},
   "source": [
    "### Arguments and Parameters"
   ]
  },
  {
   "cell_type": "markdown",
   "id": "0f619bb0",
   "metadata": {},
   "source": [
    "When a function is called it's the word inside parentheses"
   ]
  },
  {
   "cell_type": "code",
   "execution_count": null,
   "id": "fa7a784a",
   "metadata": {},
   "outputs": [],
   "source": [
    "def fill_the_fridge(amount):\n",
    "    print('open door')\n",
    "    print('Walk to the store')\n",
    "    print('Buy ' + amount + ' cartons on the ground floor')\n",
    "    print('Return with milk galore')"
   ]
  },
  {
   "cell_type": "code",
   "execution_count": null,
   "id": "b102c6a5",
   "metadata": {},
   "outputs": [],
   "source": [
    "fill_the_fridge('five')"
   ]
  },
  {
   "cell_type": "code",
   "execution_count": null,
   "id": "aaf78351",
   "metadata": {},
   "outputs": [],
   "source": [
    "fill_the_fridge('one thousand')"
   ]
  },
  {
   "cell_type": "code",
   "execution_count": null,
   "id": "9dfb8c5f",
   "metadata": {
    "scrolled": false
   },
   "outputs": [],
   "source": [
    "fill_the_fridge()"
   ]
  },
  {
   "cell_type": "markdown",
   "id": "8aa08727",
   "metadata": {},
   "source": [
    "![image](Screenshot_2.png)"
   ]
  },
  {
   "cell_type": "code",
   "execution_count": null,
   "id": "836a777f",
   "metadata": {},
   "outputs": [],
   "source": [
    "def milk_mission(amount, destination):\n",
    "    print('Open door')\n",
    "    print('Walk to the ' + destination)\n",
    "    print('Buy ' + amount + ' cartons on the ground floor')\n",
    "    print('Return with milk galore')"
   ]
  },
  {
   "cell_type": "code",
   "execution_count": null,
   "id": "ee770155",
   "metadata": {},
   "outputs": [],
   "source": [
    "milk_mission('twenty', 'department store')"
   ]
  },
  {
   "cell_type": "code",
   "execution_count": null,
   "id": "7f5b1c0e",
   "metadata": {},
   "outputs": [],
   "source": [
    "milk_mission(destination='department store', amount='twenty')"
   ]
  },
  {
   "cell_type": "code",
   "execution_count": null,
   "id": "e8804b54",
   "metadata": {},
   "outputs": [],
   "source": [
    "milk_mission('twenty', destination='store')"
   ]
  },
  {
   "cell_type": "code",
   "execution_count": null,
   "id": "e145288e",
   "metadata": {},
   "outputs": [],
   "source": [
    "milk_mission('twenty', amount='twenty')"
   ]
  },
  {
   "cell_type": "markdown",
   "id": "03060609",
   "metadata": {},
   "source": [
    "__\n",
    "TypeError: milk_mission() got multiple values for argument 'amount'"
   ]
  },
  {
   "cell_type": "markdown",
   "id": "8a85cf40",
   "metadata": {},
   "source": [
    "## Results and Return Values"
   ]
  },
  {
   "cell_type": "markdown",
   "id": "8ec0f300",
   "metadata": {},
   "source": [
    "![image](Screenshot_3.png)\n",
    "To store the value\n",
    "![image](Screenshot_4.png)"
   ]
  },
  {
   "cell_type": "markdown",
   "id": "b88e77ac",
   "metadata": {},
   "source": [
    "### Challenge: Create function times() multiplication of two values --> return the result as an output"
   ]
  },
  {
   "cell_type": "code",
   "execution_count": null,
   "id": "e57a68bf",
   "metadata": {},
   "outputs": [],
   "source": [
    "def times(a, b):\n",
    "    # results = a * b\n",
    "    return a * b"
   ]
  },
  {
   "cell_type": "code",
   "execution_count": null,
   "id": "bb481e2a",
   "metadata": {},
   "outputs": [],
   "source": [
    "test = times(3.14, 5.09)"
   ]
  },
  {
   "cell_type": "code",
   "execution_count": null,
   "id": "6df66ecc",
   "metadata": {},
   "outputs": [],
   "source": [
    "print(test)"
   ]
  },
  {
   "cell_type": "code",
   "execution_count": null,
   "id": "f22e259a",
   "metadata": {},
   "outputs": [],
   "source": [
    "times('Ni', 4)"
   ]
  },
  {
   "cell_type": "markdown",
   "id": "c89891d0",
   "metadata": {},
   "source": [
    "![image](Screenshot_5.png)"
   ]
  },
  {
   "cell_type": "code",
   "execution_count": null,
   "id": "bb1357cb",
   "metadata": {},
   "outputs": [],
   "source": [
    "import this"
   ]
  },
  {
   "cell_type": "code",
   "execution_count": null,
   "id": "195e2a53",
   "metadata": {},
   "outputs": [],
   "source": [
    "a = [a, b, c] + [1, 2, 3]"
   ]
  },
  {
   "cell_type": "code",
   "execution_count": null,
   "id": "18b806d9",
   "metadata": {},
   "outputs": [],
   "source": [
    "print(a)"
   ]
  },
  {
   "cell_type": "markdown",
   "id": "27c61c28",
   "metadata": {},
   "source": [
    "## Objects - Understanding Attributes and Methods"
   ]
  },
  {
   "cell_type": "markdown",
   "id": "03920131",
   "metadata": {},
   "source": [
    "![image](Screenshot_6.png)"
   ]
  },
  {
   "cell_type": "markdown",
   "id": "22dd76fd",
   "metadata": {},
   "source": [
    "![image](Screenshot_7.png)"
   ]
  },
  {
   "cell_type": "code",
   "execution_count": null,
   "id": "f13ee91d",
   "metadata": {},
   "outputs": [],
   "source": [
    "hitchhikersGuide.quote_marvin()"
   ]
  },
  {
   "cell_type": "code",
   "execution_count": null,
   "id": "5b178172",
   "metadata": {},
   "outputs": [],
   "source": [
    "quote_marvin()"
   ]
  },
  {
   "cell_type": "code",
   "execution_count": null,
   "id": "39ac86bd",
   "metadata": {},
   "outputs": [],
   "source": [
    "myAge = 'Two Hundred'"
   ]
  },
  {
   "cell_type": "code",
   "execution_count": null,
   "id": "7b613d96",
   "metadata": {},
   "outputs": [],
   "source": [
    "type(myAge)"
   ]
  },
  {
   "cell_type": "code",
   "execution_count": null,
   "id": "95555cba",
   "metadata": {},
   "outputs": [],
   "source": [
    "myAge = 20.53\n",
    "type(myAge)"
   ]
  },
  {
   "cell_type": "code",
   "execution_count": 19,
   "id": "3883ab6f",
   "metadata": {},
   "outputs": [],
   "source": [
    "import life as lf\n",
    "\n",
    "result = lf.square_root(63.14)"
   ]
  },
  {
   "cell_type": "code",
   "execution_count": 20,
   "id": "ee0c6db8",
   "metadata": {},
   "outputs": [
    {
     "name": "stdout",
     "output_type": "stream",
     "text": [
      "7.946068210127573\n"
     ]
    }
   ],
   "source": [
    "print(result)"
   ]
  },
  {
   "cell_type": "markdown",
   "id": "b001257b",
   "metadata": {},
   "source": [
    "## Regression and Analysis"
   ]
  },
  {
   "cell_type": "markdown",
   "id": "c7ab79be",
   "metadata": {},
   "source": [
    "![image](Screenshot_8.png)"
   ]
  },
  {
   "cell_type": "code",
   "execution_count": 1,
   "id": "2eef54aa",
   "metadata": {},
   "outputs": [
    {
     "name": "stdout",
     "output_type": "stream",
     "text": [
      "   Time_Delay_in_Minutes  LSD_ppm  Avg_Math_Test_Score\n",
      "0                      5     1.17                78.93\n",
      "1                     15     2.97                58.20\n",
      "2                     30     3.26                67.47\n",
      "3                     60     4.69                37.47\n",
      "4                    120     5.83                45.65\n",
      "5                    240     6.00                32.92\n",
      "6                    480     6.41                29.97\n"
     ]
    }
   ],
   "source": [
    "import pandas as pd\n",
    "data = pd.read_csv('lsd_math_score_data.csv')\n",
    "print(data)"
   ]
  },
  {
   "cell_type": "code",
   "execution_count": 2,
   "id": "7d856df0",
   "metadata": {},
   "outputs": [
    {
     "data": {
      "text/html": [
       "<div>\n",
       "<style scoped>\n",
       "    .dataframe tbody tr th:only-of-type {\n",
       "        vertical-align: middle;\n",
       "    }\n",
       "\n",
       "    .dataframe tbody tr th {\n",
       "        vertical-align: top;\n",
       "    }\n",
       "\n",
       "    .dataframe thead th {\n",
       "        text-align: right;\n",
       "    }\n",
       "</style>\n",
       "<table border=\"1\" class=\"dataframe\">\n",
       "  <thead>\n",
       "    <tr style=\"text-align: right;\">\n",
       "      <th></th>\n",
       "      <th>Time_Delay_in_Minutes</th>\n",
       "      <th>LSD_ppm</th>\n",
       "      <th>Avg_Math_Test_Score</th>\n",
       "    </tr>\n",
       "  </thead>\n",
       "  <tbody>\n",
       "    <tr>\n",
       "      <th>0</th>\n",
       "      <td>5</td>\n",
       "      <td>1.17</td>\n",
       "      <td>78.93</td>\n",
       "    </tr>\n",
       "    <tr>\n",
       "      <th>1</th>\n",
       "      <td>15</td>\n",
       "      <td>2.97</td>\n",
       "      <td>58.20</td>\n",
       "    </tr>\n",
       "    <tr>\n",
       "      <th>2</th>\n",
       "      <td>30</td>\n",
       "      <td>3.26</td>\n",
       "      <td>67.47</td>\n",
       "    </tr>\n",
       "    <tr>\n",
       "      <th>3</th>\n",
       "      <td>60</td>\n",
       "      <td>4.69</td>\n",
       "      <td>37.47</td>\n",
       "    </tr>\n",
       "    <tr>\n",
       "      <th>4</th>\n",
       "      <td>120</td>\n",
       "      <td>5.83</td>\n",
       "      <td>45.65</td>\n",
       "    </tr>\n",
       "    <tr>\n",
       "      <th>5</th>\n",
       "      <td>240</td>\n",
       "      <td>6.00</td>\n",
       "      <td>32.92</td>\n",
       "    </tr>\n",
       "    <tr>\n",
       "      <th>6</th>\n",
       "      <td>480</td>\n",
       "      <td>6.41</td>\n",
       "      <td>29.97</td>\n",
       "    </tr>\n",
       "  </tbody>\n",
       "</table>\n",
       "</div>"
      ],
      "text/plain": [
       "   Time_Delay_in_Minutes  LSD_ppm  Avg_Math_Test_Score\n",
       "0                      5     1.17                78.93\n",
       "1                     15     2.97                58.20\n",
       "2                     30     3.26                67.47\n",
       "3                     60     4.69                37.47\n",
       "4                    120     5.83                45.65\n",
       "5                    240     6.00                32.92\n",
       "6                    480     6.41                29.97"
      ]
     },
     "execution_count": 2,
     "metadata": {},
     "output_type": "execute_result"
    }
   ],
   "source": [
    "data"
   ]
  },
  {
   "cell_type": "code",
   "execution_count": 3,
   "id": "4eb478d5",
   "metadata": {},
   "outputs": [],
   "source": [
    "time = data[['Time_Delay_in_Minutes']]\n",
    "LSD = data[['LSD_ppm']]\n",
    "score = data[['Avg_Math_Test_Score']]"
   ]
  },
  {
   "cell_type": "code",
   "execution_count": 4,
   "id": "ab969f2b",
   "metadata": {},
   "outputs": [],
   "source": [
    "import matplotlib.pyplot as plt\n",
    "from sklearn.linear_model import LinearRegression"
   ]
  },
  {
   "cell_type": "code",
   "execution_count": 5,
   "id": "bdb3c68c",
   "metadata": {},
   "outputs": [
    {
     "data": {
      "image/png": "[encoded data removed]",
      "text/plain": [
       "<Figure size 432x288 with 1 Axes>"
      ]
     },
     "metadata": {
      "needs_background": "light"
     },
     "output_type": "display_data"
    }
   ],
   "source": [
    "%matplotlib inline\n",
    "\n",
    "plt.title('Tissue concentration of LSD over time', fontsize=14)\n",
    "plt.xlabel('Time in minutes', fontsize=14)\n",
    "plt.ylabel('Tissues LSD in ppm', fontsize=14)\n",
    "plt.text(x=0, y=-.5, s='Wagner et al. 1969', fontsize=12)\n",
    "plt.xticks(fontsize=14)\n",
    "plt.yticks(fontsize=14)\n",
    "\n",
    "plt.ylim(1, 7)\n",
    "plt.xlim(0, 500)\n",
    "\n",
    "plt.style.use('ggplot')\n",
    "\n",
    "plt.plot(time, LSD, color='#AFB42B', linewidth=3)\n",
    "\n",
    "plt.show()"
   ]
  },
  {
   "cell_type": "markdown",
   "id": "ab42766a",
   "metadata": {},
   "source": [
    "![image](Screenshot_9.png)"
   ]
  },
  {
   "cell_type": "code",
   "execution_count": 35,
   "id": "360d6b55",
   "metadata": {},
   "outputs": [
    {
     "name": "stdout",
     "output_type": "stream",
     "text": [
      "Theta1:  -9.009466415296782\n",
      "Intercept : 89.12387376799305\n",
      "R-square:  0.8778349707775888\n"
     ]
    }
   ],
   "source": [
    "regr = LinearRegression()\n",
    "regr.fit(LSD, score)\n",
    "print('Theta1: ', regr.coef_[0][0])\n",
    "print('Intercept :', regr.intercept_[0])\n",
    "print('R-square: ', regr.score(LSD, score))\n",
    "predicted_score = regr.predict(LSD)\n",
    "\n"
   ]
  },
  {
   "cell_type": "code",
   "execution_count": 43,
   "id": "2bc249e2",
   "metadata": {},
   "outputs": [
    {
     "data": {
      "image/png": "[encoded data removed]",
      "text/plain": [
       "<Figure size 432x288 with 1 Axes>"
      ]
     },
     "metadata": {
      "needs_background": "light"
     },
     "output_type": "display_data"
    }
   ],
   "source": [
    "%matplotlib inline\n",
    "\n",
    "# Challenge: add title 'Arithmetic vs LSD-25'\n",
    "# Add label on X Axis 'Tissue LSD in ppm'\n",
    "# Add label on Y axis 'Performance Score'\n",
    "\n",
    "plt.title('Arithmetic vs LSD-25', fontsize=18)\n",
    "plt.xlabel('Tissue LSD in ppm', fontsize=14)\n",
    "plt.ylabel('Performance Score', fontsize=14)\n",
    "plt.xlim(0, 7)\n",
    "plt.ylim(25, 85)\n",
    "plt.style.use('fivethirtyeight')\n",
    "\n",
    "\n",
    "plt.scatter (LSD, score, color='blue', alpha=0.3, s=200)\n",
    "plt.plot(LSD, predicted_score, color='r', linewidth=1.5)\n",
    "plt.show()"
   ]
  },
  {
   "cell_type": "markdown",
   "id": "e2938f6e",
   "metadata": {},
   "source": [
    "## Code Style"
   ]
  },
  {
   "cell_type": "markdown",
   "id": "1a8531f4",
   "metadata": {},
   "source": [
    "![image](Screenshot_10.png)"
   ]
  },
  {
   "cell_type": "code",
   "execution_count": null,
   "id": "8d01af8a",
   "metadata": {},
   "outputs": [],
   "source": []
  }
 ],
 "metadata": {
  "kernelspec": {
   "display_name": "Python 3 (ipykernel)",
   "language": "python",
   "name": "python3"
  },
  "language_info": {
   "codemirror_mode": {
    "name": "ipython",
    "version": 3
   },
   "file_extension": ".py",
   "mimetype": "text/x-python",
   "name": "python",
   "nbconvert_exporter": "python",
   "pygments_lexer": "ipython3",
   "version": "3.10.5"
  }
 },
 "nbformat": 4,
 "nbformat_minor": 5
}
